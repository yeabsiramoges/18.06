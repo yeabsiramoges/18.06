{
 "cells": [
  {
   "cell_type": "markdown",
   "id": "19c52d5d",
   "metadata": {},
   "source": [
    "# 18.06 Pset 1\n",
    "\n",
    "Due Friday Feb 11 at 11am on Canvas.  Submit PDF(s) of your handwritten solutions along with your (clearly labeled) Julia code."
   ]
  },
  {
   "cell_type": "markdown",
   "id": "81863afa",
   "metadata": {},
   "source": [
    "## Problem 1 (10 points)\n",
    "\n",
    "Suppose the matrix $A$ is a product of 3 matrices (as usual, blanks denote zeros):\n",
    "$$\n",
    "A = BCD = \n",
    "\\underbrace{\\begin{pmatrix}\n",
    "1 & 3 &  & 1 \\\\\n",
    " & 1 &  & 2 \\\\\n",
    " &  & 1 & 1 \\\\\n",
    " &  &  & 1\n",
    "\\end{pmatrix}}_B\n",
    "\\underbrace{\\begin{pmatrix}\n",
    "-1 &  &  &   \\\\\n",
    " & 2 &  &   \\\\\n",
    " &  & -3 &  \\\\\n",
    " &  &  & -2\n",
    "\\end{pmatrix}}_C\n",
    "\\underbrace{\n",
    "\\begin{pmatrix}\n",
    " &  &  & 1 \\\\\n",
    " &  & 1 & -1 \\\\\n",
    " & 1 &  & 3 \\\\\n",
    "1 & 1 &  & 1\n",
    "\\end{pmatrix}}_D\n",
    "$$\n",
    "\n",
    "**(a)**\n",
    "\n",
    "Solve\n",
    "$$\n",
    "Ax = \\begin{pmatrix}\n",
    "12 \\\\\n",
    "6 \\\\\n",
    "32 \\\\\n",
    "2\n",
    "\\end{pmatrix}\n",
    "$$\n",
    "for $x$ *without* using Gaussian elimination.\n",
    "\n",
    "(Hint: think about how we use LU factorization to solve equations.)\n",
    "\n",
    "**(b)**\n",
    "\n",
    "Check your answer in Julia.   The matrices `B`, `C`, and `D`, along with the right-hand-side `b`, are entered below for your convenience."
   ]
  },
  {
   "cell_type": "code",
   "execution_count": 11,
   "id": "de3ebfef",
   "metadata": {},
   "outputs": [
    {
     "data": {
      "text/plain": [
       "4-element Vector{Int64}:\n",
       " 12\n",
       "  6\n",
       " 32\n",
       "  2"
      ]
     },
     "execution_count": 11,
     "metadata": {},
     "output_type": "execute_result"
    }
   ],
   "source": [
    "B = [1 3 0 1; 0 1 0 2; 0 0 1 1; 0 0 0 1]\n",
    "C = [-1 0 0 0; 0 2 0 0; 0 0 -3 0; 0 0 0 -2]\n",
    "D = [0 0 0 1; 0 0 1 -1; 0 1 0 3; 1 1 0 1]\n",
    "b = [12, 6, 32, 2]\n",
    "A = B*C*D\n",
    "x = [1 \n",
    "     2 \n",
    "    -3 \n",
    "    -4]\n",
    "c = A*x"
   ]
  },
  {
   "cell_type": "markdown",
   "id": "5fccdd16",
   "metadata": {},
   "source": [
    "## Problem 2 (15 points)\n",
    "\n",
    "Consider the $5 \\times 5$ matrix:\n",
    "$$\n",
    "A = \\begin{pmatrix}\n",
    "1 & -1 &  &  &  \\\\\n",
    "2 & -1 & 1 &  &  \\\\\n",
    " & 3 & 4 & -2 &  \\\\\n",
    " &  & -2 & 5 & -2 \\\\\n",
    " &  &  & -1 & 3\n",
    "\\end{pmatrix}\n",
    "$$\n",
    "\n",
    "**(a)**\n",
    "\n",
    "Compute (by hand) its LU factorization $A = LU$ via Gaussian elimination (i.e. give both $L$ and $U$).\n",
    "\n",
    "Notice any special pattern to the nonzero entries?\n",
    "\n",
    "**(b)**\n",
    "\n",
    "The pattern of nonzeros entries in this matrix $A$ is called [tridiagonal](https://en.wikipedia.org/wiki/Tridiagonal_matrix), and you should have noticed that Gaussian elimination is a *lot* easier for a tridiagonal matrix than it would be on an arbitrary $5 \\times 5$ matrix.\n",
    "\n",
    "Julia has a special [`Tridiagonal`](https://docs.julialang.org/en/v1/stdlib/LinearAlgebra/#LinearAlgebra.Tridiagonal) matrix type in its LinearAlgebra library to exploit this structure.  You enter it something like this:"
   ]
  },
  {
   "cell_type": "code",
   "execution_count": 13,
   "id": "b6519598",
   "metadata": {},
   "outputs": [
    {
     "data": {
      "text/plain": [
       "5×5 Tridiagonal{Int64, Vector{Int64}}:\n",
       " 1  -1   ⋅   ⋅   ⋅\n",
       " 2  -1   1   ⋅   ⋅\n",
       " ⋅   3   4  -2   ⋅\n",
       " ⋅   ⋅  -2   5  -2\n",
       " ⋅   ⋅   ⋅  -1   3"
      ]
     },
     "execution_count": 13,
     "metadata": {},
     "output_type": "execute_result"
    }
   ],
   "source": [
    "using LinearAlgebra # load the LinearAlgebra package\n",
    "\n",
    "# almost right:\n",
    "A = Tridiagonal([2, 3, -2, -1], [1,-1,4,5,3], [-1, 1, -2, -2])"
   ]
  },
  {
   "cell_type": "markdown",
   "id": "d6907c08",
   "metadata": {},
   "source": [
    "The above code is not quite right for the matrix $A$ in this problem.  Fix it.  (Check the [`Tridiagonal` documentation](https://docs.julialang.org/en/v1/stdlib/LinearAlgebra/#LinearAlgebra.Tridiagonal) if it isn't obvious when you run the code.)\n",
    "\n",
    "Once it's fixed, check your $L$ and $U$ factors from **(a)** using the Julia `lu` function on `A`:"
   ]
  },
  {
   "cell_type": "code",
   "execution_count": 14,
   "id": "a5657646",
   "metadata": {},
   "outputs": [
    {
     "data": {
      "text/plain": [
       "LU{Float64, Tridiagonal{Float64, Vector{Float64}}}\n",
       "L factor:\n",
       "5×5 Matrix{Float64}:\n",
       " 1.0  0.0   0.0   0.0  0.0\n",
       " 2.0  1.0   0.0   0.0  0.0\n",
       " 0.0  3.0   1.0   0.0  0.0\n",
       " 0.0  0.0  -2.0   1.0  0.0\n",
       " 0.0  0.0   0.0  -1.0  1.0\n",
       "U factor:\n",
       "5×5 Matrix{Float64}:\n",
       " 1.0  -1.0  0.0   0.0   0.0\n",
       " 0.0   1.0  1.0   0.0   0.0\n",
       " 0.0   0.0  1.0  -2.0   0.0\n",
       " 0.0   0.0  0.0   1.0  -2.0\n",
       " 0.0   0.0  0.0   0.0   1.0"
      ]
     },
     "execution_count": 14,
     "metadata": {},
     "output_type": "execute_result"
    }
   ],
   "source": [
    "lu(A, NoPivot()) # compute the LU factorization, without row swaps (\"pivoting\")"
   ]
  },
  {
   "cell_type": "markdown",
   "id": "4da809bb",
   "metadata": {},
   "source": [
    "**(c)**\n",
    "\n",
    "Suppose you carried out arithmetic at the *same rate*, but $A$ was **10 times** larger: a $50\\times 50$ tridiagonal matrix.\n",
    "\n",
    "About how much longer would part (a) have taken?  10 times, 100 times, 1000 times?"
   ]
  },
  {
   "cell_type": "markdown",
   "id": "4eb1ab8d",
   "metadata": {},
   "source": [
    "## Problem 3 (10 points)\n",
    "\n",
    "Consider the following matrices:\n",
    "\n",
    "$$\n",
    "U = \\begin{pmatrix} 1 & 1 & -1 \\\\ 0 & 1 & 2 \\\\ 0 & 0 & 1 \\end{pmatrix}, \\;\n",
    "L = \\begin{pmatrix} 1 & 0 & 0 \\\\ -1 & 1 & 0 \\\\ -2 & 1 & 1 \\end{pmatrix}, \\;\n",
    "B = \\begin{pmatrix} 1 & 2 & 3 \\\\ 3 & 2 & 1 \\\\ 1 & 0 & 1 \\end{pmatrix}\n",
    "$$\n",
    "\n",
    "Let $A = U B^{-1} L$.\n",
    "\n",
    "**(a)** Compute the *second column* of $A^{-1}$.  (If you think about it, you can do it *without inverting any matrices*.)\n",
    "\n",
    "**(b)** Check your answer by explicitly computing $A^{-1}$ in Julia."
   ]
  },
  {
   "cell_type": "code",
   "execution_count": 15,
   "id": "eb3f80c4",
   "metadata": {},
   "outputs": [
    {
     "data": {
      "text/plain": [
       "3×3 Matrix{Float64}:\n",
       "  1.0   1.0  2.0\n",
       "  4.0  -0.0  8.0\n",
       " -1.0   1.0  0.0"
      ]
     },
     "execution_count": 15,
     "metadata": {},
     "output_type": "execute_result"
    }
   ],
   "source": [
    "# fill these in:\n",
    "U = [1 1 -1\n",
    "     0 1 2\n",
    "     0 0 1]\n",
    "L = [1 0 0\n",
    "    -1 1 0\n",
    "    -2 1 1]\n",
    "B = [1 2 3\n",
    "     3 2 1\n",
    "     1 0 1]\n",
    "\n",
    "A = U * (B \\ L)  # computes UB⁻¹L\n",
    "A^-1 # computes A⁻¹"
   ]
  },
  {
   "cell_type": "markdown",
   "id": "0d8f4144",
   "metadata": {},
   "source": [
    "## Problem 4 (10 points)\n",
    "\n",
    "From Strang, section 2.6.  Consider $$L = \\begin{pmatrix} 1 & 0 & 0 \\\\ a & 1 & 0 \\\\ b & c & 1 \\end{pmatrix}$$ for some numbers $a,b,c$.\n",
    "\n",
    "**(a)** When you perform the usual Gaussian elimination steps to $L$, what matrix will you obtain?\n",
    "\n",
    "**(b)** If you apply the *same* row operations to $I$, what matrix will you get?\n",
    "\n",
    "**(c)** If you apply the *same* row operations to $LB$ for some $3\\times n$ matrix $B$, what will you get?"
   ]
  },
  {
   "cell_type": "markdown",
   "id": "63633602",
   "metadata": {},
   "source": [
    "## Problem 5 (10 points)\n",
    "\n",
    "Suppose that $A$ and $B$ are a $100 \\times 100$ matrices, and we break each of them into 4 equal blocks (\"sub-matrices\"):\n",
    "$$\n",
    "A = \\begin{pmatrix} A_1 & A_2 \\\\ A_3 & A_4 \\end{pmatrix}, \\qquad\n",
    "B = \\begin{pmatrix} B_1 & B_2 \\\\ B_3 & B_4 \\end{pmatrix}\n",
    "$$\n",
    "where each of the blocks $A_k$ and $B_k$ is a $50 \\times 50$ matrix.\n",
    "\n",
    "Let's write the product $C = AB$, another $100 \\times 100$ matrix, as another collection of 4 $50 \\times 50$ sub-matrices:\n",
    "$$\n",
    "C = AB = \\begin{pmatrix} C_1 & C_2 \\\\ C_3 & C_4 \\end{pmatrix}\n",
    "$$\n",
    "\n",
    "**(a)**\n",
    "\n",
    "Write a formula for $C_1$ (the upper-left $50 \\times 50$ block of $C$) in terms of matrix additions and multiplications of the blocks $A_1,\\ldots,A_4$ and $B_1,\\ldots,B_4$.\n",
    "\n",
    "(For example \"$C_1 = A_1 B_4 - A_4 B_1 + A_3 B_2$\" is the wrong answer, but is the type of thing I'm looking for.)\n",
    "\n",
    "(If you get confused, maybe draw a picture of how just one element of $C_1$ is computed from a row of $A$ times a column of $B$, and then think about how that dot product relates to sub-matrix products like $A_1 B_1$.  Alternatively, try it with a 4×4 matrix and 2×2 blocks.)"
   ]
  },
  {
   "cell_type": "markdown",
   "id": "40eb54be",
   "metadata": {},
   "source": [
    "**(b)**\n",
    "\n",
    "Check your answer with a random matrix in Julia:"
   ]
  },
  {
   "cell_type": "code",
   "execution_count": 17,
   "id": "3b6ddcf5",
   "metadata": {},
   "outputs": [
    {
     "data": {
      "text/plain": [
       "true"
      ]
     },
     "execution_count": 17,
     "metadata": {},
     "output_type": "execute_result"
    }
   ],
   "source": [
    "# 4 random blocks of A\n",
    "A1, A2, A3, A4 = rand(50,50), rand(50,50), rand(50,50), rand(50,50)\n",
    "\n",
    "# 4 randdom blocks of B\n",
    "B1, B2, B3, B4 = rand(50,50), rand(50,50), rand(50,50), rand(50,50)\n",
    "\n",
    "# make A and B out of these blocks:\n",
    "A = [A1 A2\n",
    "     A3 A4]\n",
    "B = [B1 B2\n",
    "     B3 B4]\n",
    "\n",
    "# make C = AB\n",
    "C = A*B\n",
    "\n",
    "# extract C₁ from the upper-left 50×50 block of C:\n",
    "C1 = C[1:50, 1:50]\n",
    "\n",
    "# finally, check that C1 equals (up to roundoff error) your formula from (a):\n",
    "\n",
    "your_C1 =  A1*B1 + A2*B3 # ← YOUR (a) HERE ...some formula in terms of A1,A2,A3,A4,B1,B2,B3,B4\n",
    "\n",
    "C1 ≈ your_C1    # should print \"true\""
   ]
  },
  {
   "cell_type": "markdown",
   "id": "2baaf799",
   "metadata": {},
   "source": [
    "## Problem 6 (12 points)\n",
    "\n",
    "Suppose that we did something similar to Gaussian elimination on a matrix $A$, but with column operations rather than row operations, to turn it into the following matrix $B$:\n",
    "\n",
    "$$\n",
    "\\underbrace{\n",
    "\\begin{pmatrix}\n",
    "2 & 4 & 6 \\\\\n",
    "3 & 1 & 10 \\\\\n",
    " & -1 & 3\n",
    "\\end{pmatrix}}_A \\longrightarrow\n",
    "\\underbrace{\\begin{pmatrix}\n",
    "2 &  &  \\\\\n",
    "3 & -5 & 1 \\\\\n",
    " & -1 & 3\n",
    "\\end{pmatrix}}_B\n",
    "$$\n",
    "\n",
    "For example, we subtracted twice the first column of $A$ from the second column\n",
    "of $A$ to get the second column of $B$.\n",
    "\n",
    "**(a)**\n",
    "\n",
    "How did we get the third column of $B$ from columns of $A$?\n",
    "\n",
    "**(b)**\n",
    "\n",
    "You can represent these column operations as a matrix multiplying $A$ on the _________ (**left** or **right**).\n",
    "\n",
    "**(c)**\n",
    "\n",
    "Following your answer from (a), write $B$ as a matrix product of $A$ with some other matrix $E$.\n",
    "\n",
    "**(d)**\n",
    "\n",
    "Enter your `E` in Julia and check that `B` is indeed given by the product in your previous part."
   ]
  },
  {
   "cell_type": "code",
   "execution_count": 18,
   "id": "232b4951",
   "metadata": {},
   "outputs": [
    {
     "data": {
      "text/plain": [
       "3×3 Matrix{Int64}:\n",
       " 1  -2  -3\n",
       " 0   1   0\n",
       " 0   0   1"
      ]
     },
     "execution_count": 18,
     "metadata": {},
     "output_type": "execute_result"
    }
   ],
   "source": [
    "A = [2 4 6; 3 1 10; 0 -1 3]\n",
    "B = [2 0 0; 3 -5 1; 0 -1 3]\n",
    "\n",
    "E = [1 -2 -3\n",
    "     0 1 0\n",
    "     0 0 1]"
   ]
  },
  {
   "cell_type": "code",
   "execution_count": 20,
   "id": "10d8376f",
   "metadata": {},
   "outputs": [
    {
     "data": {
      "text/plain": [
       "true"
      ]
     },
     "execution_count": 20,
     "metadata": {},
     "output_type": "execute_result"
    }
   ],
   "source": [
    "# check:\n",
    "B == A * E# A*E or E*A ?"
   ]
  },
  {
   "cell_type": "code",
   "execution_count": null,
   "id": "93e1c51f-a838-43ea-94c5-8c3c15878ea0",
   "metadata": {},
   "outputs": [],
   "source": []
  }
 ],
 "metadata": {
  "kernelspec": {
   "display_name": "Julia 1.7.1",
   "language": "julia",
   "name": "julia-1.7"
  },
  "language_info": {
   "file_extension": ".jl",
   "mimetype": "application/julia",
   "name": "julia",
   "version": "1.7.1"
  }
 },
 "nbformat": 4,
 "nbformat_minor": 5
}
