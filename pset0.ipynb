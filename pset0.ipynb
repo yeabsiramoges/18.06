{
 "cells": [
  {
   "cell_type": "markdown",
   "id": "2ce749ba",
   "metadata": {},
   "source": [
    "# 18.06 problem set 0: Warm-ups\n",
    "\n",
    "This problem set is due **Friday, Feb 4 at 11am**.\n",
    "\n",
    "You should submit your pset *electronically* via Canvas as PDF files.  Submit a decent-quality **scan** of any handwritten solutions (e.g. get a scanner app on your phone), and a PDF printout of your Jupyter notebook showing any code and (clearly labeled results)."
   ]
  },
  {
   "cell_type": "markdown",
   "id": "20faea22",
   "metadata": {},
   "source": [
    "## Problem 1\n",
    "\n",
    "Suppose $A$ is a $3 \\times 3$ matrix, $B$ is a $3 \\times 2$ matrix, $x$ is a 3-component column vector, and $y$ is a $2$-component column vector.\n",
    "\n",
    "What is the **shape** of the output (e.g. scalar, $4\\times 3$ matrix, 5-component column vector, etcetera) of the following operations, or say **nonsense** if the operation doesn't make sense.\n",
    "\n",
    "1. $A B$\n",
    "2. $B A$\n",
    "3. $A B y$\n",
    "4. $A x B$\n",
    "5. $x^T A y$\n",
    "6. $x^T B y$\n",
    "7. $x^T y$\n",
    "8. $y x^T$\n",
    "9. $x^2$\n",
    "10. $A^2 = AA$\n",
    "11. $B^2 = BB$\n",
    "12. $\\frac{x}{A}$\n",
    "13. $\\frac{x}{x}$"
   ]
  },
  {
   "cell_type": "markdown",
   "id": "80906f47",
   "metadata": {},
   "source": [
    "## Problem 2\n",
    "\n",
    "(From Strang, section 2.2, problem 11.)\n",
    "\n",
    "A system of linear equations Ax=b cannot have exactly two solutions. An easy way to see why: if two vectors x and y≠x are two solutions (i.e. Ax=b and Ay=b), what is another solution? (Hint: x+y is almost right.)"
   ]
  },
  {
   "cell_type": "markdown",
   "id": "d896b8de",
   "metadata": {},
   "source": [
    "## Problem 3\n",
    "\n",
    "Either (ideally) download and install Julia and IJulia/Jupyter by following [these instructions](https://github.com/mitmath/julia-mit#installing-julia-and-ijulia-on-your-own-computer), or (slower, less convenient) run Julia in the cloud using [these instructions](https://github.com/mitmath/julia-mit#running-julia-in-the-cloud).\n",
    "\n",
    "1. Create a new Julia notebook.  Title it \"[your last name] pset 0\".\n",
    "2. Define a matrix `A` that takes in any 3-component vector $x$ and outputs ($Ax$) the components in *reverse order*.  For example, this is how you enter a matrix in Julia:"
   ]
  },
  {
   "cell_type": "code",
   "execution_count": 1,
   "id": "23ef6747",
   "metadata": {},
   "outputs": [
    {
     "data": {
      "text/plain": [
       "2×4 Matrix{Int64}:\n",
       " 1  2  3  4\n",
       " 5  6  7  8"
      ]
     },
     "execution_count": 1,
     "metadata": {},
     "output_type": "execute_result"
    }
   ],
   "source": [
    "A = [ 1 2 3 4\n",
    "      5 6 7 8 ] # this is a 2×4 matrix … not the right answer"
   ]
  },
  {
   "cell_type": "markdown",
   "id": "64adc36d",
   "metadata": {},
   "source": [
    "**3.** Multiply `A` by the vector `x = [1,2,3]` to check that it is doing what you want.\n",
    "\n",
    "**4.** Try computing `A*A`.  The result should be a very simple linear operation: what?\n",
    "\n",
    "Be sure to include a PDF printout of your notebook with your submitted solutions."
   ]
  },
  {
   "cell_type": "code",
   "execution_count": null,
   "id": "35cbead4",
   "metadata": {},
   "outputs": [],
   "source": []
  }
 ],
 "metadata": {
  "kernelspec": {
   "display_name": "Julia 1.7.1",
   "language": "julia",
   "name": "julia-1.7"
  },
  "language_info": {
   "file_extension": ".jl",
   "mimetype": "application/julia",
   "name": "julia",
   "version": "1.7.1"
  }
 },
 "nbformat": 4,
 "nbformat_minor": 5
}
