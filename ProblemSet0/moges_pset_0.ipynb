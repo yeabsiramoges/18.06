{
 "cells": [
  {
   "cell_type": "code",
   "execution_count": 1,
   "id": "cafa2a17-77da-41c5-b28d-b7fbcbd8db32",
   "metadata": {},
   "outputs": [
    {
     "data": {
      "text/plain": [
       "3×3 Matrix{Int64}:\n",
       " 0  0  1\n",
       " 0  1  0\n",
       " 1  0  0"
      ]
     },
     "execution_count": 1,
     "metadata": {},
     "output_type": "execute_result"
    }
   ],
   "source": [
    "A = [0 0 1\n",
    "     0 1 0\n",
    "     1 0 0]"
   ]
  },
  {
   "cell_type": "code",
   "execution_count": 2,
   "id": "e37f4a8e-4c38-4dc1-a34d-071985c35144",
   "metadata": {},
   "outputs": [
    {
     "data": {
      "text/plain": [
       "3-element Vector{Int64}:\n",
       " 1\n",
       " 2\n",
       " 3"
      ]
     },
     "execution_count": 2,
     "metadata": {},
     "output_type": "execute_result"
    }
   ],
   "source": [
    "x = [1, 2, 3]"
   ]
  },
  {
   "cell_type": "code",
   "execution_count": 3,
   "id": "1a61a363-82f4-4144-a201-e817e522f9f8",
   "metadata": {},
   "outputs": [
    {
     "data": {
      "text/plain": [
       "3-element Vector{Int64}:\n",
       " 3\n",
       " 2\n",
       " 1"
      ]
     },
     "execution_count": 3,
     "metadata": {},
     "output_type": "execute_result"
    }
   ],
   "source": [
    "A*x"
   ]
  },
  {
   "cell_type": "code",
   "execution_count": 4,
   "id": "aea1b89d-6c45-4d74-a5f4-91ce5ff06ed1",
   "metadata": {},
   "outputs": [
    {
     "data": {
      "text/plain": [
       "3×3 Matrix{Int64}:\n",
       " 1  0  0\n",
       " 0  1  0\n",
       " 0  0  1"
      ]
     },
     "execution_count": 4,
     "metadata": {},
     "output_type": "execute_result"
    }
   ],
   "source": [
    "A*A"
   ]
  },
  {
   "cell_type": "markdown",
   "id": "8b87cf5d-d7ba-4a3e-89c6-088f32f69023",
   "metadata": {},
   "source": [
    "A*A results in the Identity Matrix"
   ]
  },
  {
   "cell_type": "code",
   "execution_count": 2,
   "id": "0083ea4c-2574-4461-af8d-f28dc40aca49",
   "metadata": {},
   "outputs": [
    {
     "data": {
      "text/plain": [
       "2×2 Matrix{Int64}:\n",
       " 2  4\n",
       " 1  2"
      ]
     },
     "execution_count": 2,
     "metadata": {},
     "output_type": "execute_result"
    }
   ],
   "source": [
    "C = [2 4\n",
    "     1 2]"
   ]
  },
  {
   "cell_type": "code",
   "execution_count": 3,
   "id": "49d86f74-d920-459e-bd3c-dbd62aee7206",
   "metadata": {},
   "outputs": [
    {
     "data": {
      "text/plain": [
       "1×2 Matrix{Int64}:\n",
       " 6  3"
      ]
     },
     "execution_count": 3,
     "metadata": {},
     "output_type": "execute_result"
    }
   ],
   "source": [
    "D = [6 3]"
   ]
  },
  {
   "cell_type": "code",
   "execution_count": 4,
   "id": "983b68f0-e83a-4262-ab3d-43b0f70a8b10",
   "metadata": {},
   "outputs": [
    {
     "data": {
      "text/plain": [
       "1×2 Matrix{Int64}:\n",
       " 15  30"
      ]
     },
     "execution_count": 4,
     "metadata": {},
     "output_type": "execute_result"
    }
   ],
   "source": [
    "D*C"
   ]
  },
  {
   "cell_type": "code",
   "execution_count": 2,
   "id": "7fa28e49-9518-4cfd-8361-876d8dba22cc",
   "metadata": {},
   "outputs": [
    {
     "data": {
      "text/plain": [
       "2×2 Matrix{Float64}:\n",
       " 0.5       -0.866025\n",
       " 0.866025   0.5"
      ]
     },
     "execution_count": 2,
     "metadata": {},
     "output_type": "execute_result"
    }
   ],
   "source": [
    "A0 = [cos(pi/3) -sin(pi/3)\n",
    "      sin(pi/3) cos(pi/3)]"
   ]
  },
  {
   "cell_type": "code",
   "execution_count": 5,
   "id": "a978f4e7-10b7-45e9-8f29-3df23ca7e1cf",
   "metadata": {},
   "outputs": [
    {
     "data": {
      "text/plain": [
       "2-element Vector{Float64}:\n",
       " -0.8660254037844386\n",
       "  0.5000000000000001"
      ]
     },
     "execution_count": 5,
     "metadata": {},
     "output_type": "execute_result"
    }
   ],
   "source": [
    "A0*[0,1]"
   ]
  },
  {
   "cell_type": "code",
   "execution_count": 6,
   "id": "29974b44-6359-44f2-8c2e-3d88aa04ac09",
   "metadata": {},
   "outputs": [
    {
     "data": {
      "text/plain": [
       "2×2 Matrix{Float64}:\n",
       " -0.866025  0.5\n",
       "  0.5       0.866025"
      ]
     },
     "execution_count": 6,
     "metadata": {},
     "output_type": "execute_result"
    }
   ],
   "source": [
    "A0*[0 1\n",
    "    1 0]"
   ]
  },
  {
   "cell_type": "code",
   "execution_count": 8,
   "id": "0bee9604-0d2d-443b-8d61-895c0655f172",
   "metadata": {},
   "outputs": [
    {
     "ename": "LoadError",
     "evalue": "UndefVarError: inverse not defined",
     "output_type": "error",
     "traceback": [
      "UndefVarError: inverse not defined",
      "",
      "Stacktrace:",
      " [1] top-level scope",
      "   @ In[8]:1",
      " [2] eval",
      "   @ .\\boot.jl:373 [inlined]",
      " [3] include_string(mapexpr::typeof(REPL.softscope), mod::Module, code::String, filename::String)",
      "   @ Base .\\loading.jl:1196"
     ]
    }
   ],
   "source": []
  },
  {
   "cell_type": "code",
   "execution_count": null,
   "id": "87254ad3-d9fa-4dda-bae8-6f50485af423",
   "metadata": {},
   "outputs": [],
   "source": []
  }
 ],
 "metadata": {
  "kernelspec": {
   "display_name": "Julia 1.7.1",
   "language": "julia",
   "name": "julia-1.7"
  },
  "language_info": {
   "file_extension": ".jl",
   "mimetype": "application/julia",
   "name": "julia",
   "version": "1.7.1"
  }
 },
 "nbformat": 4,
 "nbformat_minor": 5
}
